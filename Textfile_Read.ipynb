{
 "cells": [
  {
   "cell_type": "code",
   "execution_count": 109,
   "metadata": {},
   "outputs": [
    {
     "name": "stdout",
     "output_type": "stream",
     "text": [
      "Enter the name of the file:sample_text_file.txt4\n",
      "The file sample_text_file.txt4 has about 38128 words,  4822  lines,  78008  characters,  54320  spaces  34  tabs and  1  paragraphs\n"
     ]
    }
   ],
   "source": [
    "\n",
    "def count_every(filename):\n",
    "    try:\n",
    "        with open(filename ,encoding=\"utf8\") as f_obj:\n",
    "            contents = f_obj.read()\n",
    "            spaces = 0\n",
    "            lines = 0\n",
    "            words = 0\n",
    "            characters = 0\n",
    "            paragraph = 0\n",
    "            tabs = 0\n",
    "            total_characters = 0\n",
    "            p1 = contents.count(\"\\n\\t\")\n",
    "            p2 = contents.count(\"\\n   \")\n",
    "            p3 = contents.count(\"\\n    \")\n",
    "            p4 = contents.count(\"\\n     \")\n",
    "            p5 = contents.count(\"\\n      \")\n",
    "            p6 = contents.count(\"\\n\\n\")\n",
    "            p7 = contents.count(\"\\n       \")\n",
    "            paragraph= p1 + p2 + p3 + p4 + p5 + p6 + p7 -1\n",
    "            total_characters = len(contents)\n",
    "            words = len(contents.split())\n",
    "            lines = contents.count('\\n') +1\n",
    "            #print ( \"Number of Words: \", num_lines )\n",
    "            tabs = len(contents.split('\\t')) -1\n",
    "            spaces = len(contents.split(' ')) -1\n",
    "            characters = total_characters - spaces - tabs - lines               \n",
    "           \n",
    "            print(\"The file \" + filename + \" has about \" + str(words) + \" words, \",lines,\" lines, \",characters,\" characters, \",spaces,\" spaces \",tabs,\" tabs and \" ,paragraph,\" paragraphs\")\n",
    "\n",
    "    except FileNotFoundError:\n",
    "        msg = \"Sorry, the file \" + filename + \" does not exist.\"\n",
    "        print(msg)\n",
    "\n",
    "\n",
    "filename = input(\"Enter the name of the file:\")\n",
    "count_every(filename)"
   ]
  },
  {
   "cell_type": "code",
   "execution_count": null,
   "metadata": {},
   "outputs": [],
   "source": []
  },
  {
   "cell_type": "code",
   "execution_count": null,
   "metadata": {},
   "outputs": [],
   "source": []
  }
 ],
 "metadata": {
  "kernelspec": {
   "display_name": "Python 3",
   "language": "python",
   "name": "python3"
  },
  "language_info": {
   "codemirror_mode": {
    "name": "ipython",
    "version": 3
   },
   "file_extension": ".py",
   "mimetype": "text/x-python",
   "name": "python",
   "nbconvert_exporter": "python",
   "pygments_lexer": "ipython3",
   "version": "3.7.3"
  }
 },
 "nbformat": 4,
 "nbformat_minor": 2
}
